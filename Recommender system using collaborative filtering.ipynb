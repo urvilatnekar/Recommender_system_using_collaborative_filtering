{
 "cells": [
  {
   "cell_type": "markdown",
   "metadata": {
    "id": "lVA0usORys4q"
   },
   "source": [
    "# Collaborative filtering - memory based using cosine distance and kNN"
   ]
  },
  {
   "cell_type": "markdown",
   "metadata": {
    "id": "g5OnarFNys4u"
   },
   "source": [
    "Recommender systems are an integral part of many online systems. From e-commerce to online streaming platforms.\n",
    "Recommender systems employ the past purchase patters on it's user to predict which other products they may in interested in and likey to purchase. Recommending the right products gives a significat advantage to the business. A mojor portion of the revenue is generated through recommendations.\n"
   ]
  },
  {
   "cell_type": "markdown",
   "metadata": {
    "id": "M2XFFDbRys4v",
    "pycharm": {
     "name": "#%%\n"
    }
   },
   "source": [
    "The Collaborative Filtering algorithm is very popular in online streaming platforms and e-commerse sites where the customer interacts with each product (which can be a movie/ song or consumer products) by either liking/ disliking or giving a rating of sorts.\n",
    "One of the requirements to be able to apply collaborative filtering is that sufficient number of products need ratings associated with not them. User interaction is required.\n",
    "\n",
    "\n"
   ]
  },
  {
   "cell_type": "markdown",
   "metadata": {
    "id": "cA1J6ELlys4w"
   },
   "source": [
    "This notebook walks through the implementation of collaborative filtering using memory based technique of distnce proximity using cosine distances and nearest neighbours."
   ]
  },
  {
   "cell_type": "markdown",
   "metadata": {
    "id": "xvKh3gVQys4w"
   },
   "source": [
    "## Importing libraries and initial data checks"
   ]
  },
  {
   "cell_type": "code",
   "execution_count": null,
   "metadata": {
    "id": "_PU_m9Q_ys4x",
    "pycharm": {
     "name": "#%%\n"
    }
   },
   "outputs": [],
   "source": [
    "# import required libraries\n",
    "import pandas as pd\n",
    "import numpy as np"
   ]
  },
  {
   "cell_type": "markdown",
   "metadata": {
    "id": "MwsLKtHQys4y"
   },
   "source": [
    "### About the data\n",
    "\n",
    "This is a dataset related to over 2 Million customer reviews and ratings of Beauty related products sold on Amazon's website.\n",
    "\n",
    "It contains:\n",
    "- the unique UserId (Customer Identification),\n",
    "- the product ASIN (Amazon's unique product identification code for each product),\n",
    "- Ratings (ranging from 1-5 based on customer satisfaction) and\n",
    "- the Timestamp of the rating (in UNIX time)"
   ]
  },
  {
   "cell_type": "code",
   "execution_count": null,
   "metadata": {
    "id": "8mvr09Uhys4z",
    "outputId": "b0872a1d-7116-46ed-c3b5-9f63015a72d1"
   },
   "outputs": [],
   "source": [
    "\n",
    "df = pd.read_csv('ratings_Beauty.csv')\n",
    "df.shape\n"
   ]
  },
  {
   "cell_type": "code",
   "execution_count": null,
   "metadata": {
    "id": "5W_KKFexys41",
    "outputId": "3ccf52a9-e1b0-4e7f-dad5-57de5d20f391"
   },
   "outputs": [],
   "source": [
    "# check the first 5 rows\n",
    "df.head()\n"
   ]
  },
  {
   "cell_type": "markdown",
   "metadata": {
    "id": "gB91hxEcys42"
   },
   "source": [
    "Check if there are any duplicate values present.\n",
    "\n",
    "Here, the code calculates the number of duplicate records in the DataFrame by checking for duplicates based on the columns \"UserId\", \"ProductId\", \"Rating\", and \"Timestamp\". The .duplicated() function returns a boolean Series indicating whether each row is a duplicate or not, and .sum() is then used to count the True values in this Series. The count of duplicates is stored in the variable duplicates."
   ]
  },
  {
   "cell_type": "code",
   "execution_count": null,
   "metadata": {
    "id": "SRVUW3XSys42",
    "outputId": "932f9652-0972-488f-8d81-cbc17f924458"
   },
   "outputs": [],
   "source": [
    "duplicates = df.duplicated([\"UserId\",\"ProductId\", \"Rating\", \"Timestamp\"]).sum()\n",
    "print(' Duplicate records: ',duplicates)\n"
   ]
  },
  {
   "cell_type": "markdown",
   "metadata": {
    "id": "GR5_E7xeys43"
   },
   "source": [
    "See the number of unique values present"
   ]
  },
  {
   "cell_type": "code",
   "execution_count": null,
   "metadata": {
    "id": "-hzuxZj1ys43",
    "outputId": "1a4c0aaa-b447-40a8-a474-d4218d82e94d"
   },
   "outputs": [],
   "source": [
    "print('unique users:',len(df.UserId.unique()))\n",
    "print('unique products:',len(df.ProductId.unique()))\n",
    "print(\"total ratings: \",df.shape[0])\n"
   ]
  },
  {
   "cell_type": "markdown",
   "metadata": {
    "id": "_MlGGjbrys44"
   },
   "source": [
    "Check for null values\n",
    "\n",
    "This line checks for missing values in the DataFrame by using the .isnull() function, which returns a DataFrame of boolean values indicating whether each element is null or not. .any() then checks if there are any True values along each column, indicating the presence of missing values."
   ]
  },
  {
   "cell_type": "code",
   "execution_count": null,
   "metadata": {
    "id": "XMzIZX_0ys45",
    "outputId": "a28f3a50-15fd-4ab6-bbfe-655a1beb0577"
   },
   "outputs": [],
   "source": [
    "df.isnull().any()\n"
   ]
  },
  {
   "cell_type": "markdown",
   "metadata": {
    "id": "6nZvEOTHys45"
   },
   "source": [
    "Number of rated products per user\n",
    "\n",
    "This line calculates the number of ratings given by each user. It uses the .groupby() function to group the data by \"UserId\", then applies .count() to count the number of ratings for each user. The results are sorted in descending order using .sort_values() and stored in the products_user Series."
   ]
  },
  {
   "cell_type": "code",
   "execution_count": null,
   "metadata": {
    "id": "zBDjbB7zys45",
    "outputId": "8edf68f4-50f7-4968-9335-0991b208baeb"
   },
   "outputs": [],
   "source": [
    "products_user= df.groupby(by = \"UserId\")[\"Rating\"].count().sort_values(ascending =False)\n",
    "products_user.head()\n"
   ]
  },
  {
   "cell_type": "markdown",
   "metadata": {
    "id": "IFpN6OLsys46"
   },
   "source": [
    "Number of ratings per product"
   ]
  },
  {
   "cell_type": "code",
   "execution_count": null,
   "metadata": {
    "id": "fH5QHdwCys46",
    "outputId": "936db3db-bf6f-4bdf-f712-55719bdd8343"
   },
   "outputs": [],
   "source": [
    "product_rated = df.groupby(by = \"ProductId\")[\"Rating\"].count().sort_values(ascending = False)\n",
    "product_rated.head()\n"
   ]
  },
  {
   "cell_type": "markdown",
   "metadata": {
    "id": "FvEJ4nQdys47"
   },
   "source": [
    "Number of products rated by each user\n",
    "\n",
    "This line calculates the number of products rated by each user. It groups the data by \"UserId\" and counts the number of unique products rated by each user. The results are sorted in descending order and stored in the rated_users Series."
   ]
  },
  {
   "cell_type": "code",
   "execution_count": null,
   "metadata": {
    "id": "J-AELjLpys47",
    "outputId": "101cfe1d-5ddf-4dda-d5d2-009bc58ae7d5"
   },
   "outputs": [],
   "source": [
    "rated_users=df.groupby(\"UserId\")[\"ProductId\"].count().sort_values(ascending=False)\n",
    "print(rated_users)\n"
   ]
  },
  {
   "cell_type": "code",
   "execution_count": null,
   "metadata": {
    "id": "-Ef938KTys48",
    "outputId": "f5479787-c33d-49dd-d099-aeb32aedf5f2"
   },
   "outputs": [],
   "source": [
    "rated_products=df.groupby(\"ProductId\")[\"UserId\"].count().sort_values(ascending=False)\n",
    "print(rated_products)\n"
   ]
  },
  {
   "cell_type": "markdown",
   "metadata": {
    "id": "MYy8vMIPys48"
   },
   "source": [
    "Number of products with some minimum ratings"
   ]
  },
  {
   "cell_type": "code",
   "execution_count": null,
   "metadata": {
    "id": "K7T0uE2uys48",
    "outputId": "e328f109-1b8c-4b55-ed16-de028679ef09"
   },
   "outputs": [],
   "source": [
    "print('Number of products with minimum of 5 reviews/ratings:',rated_products[rated_products>5].count())\n",
    "print('Number of products with minimum of 4 reviews/ratings:',rated_products[rated_products>4].count())\n",
    "print('Number of products with minimum of 3 reviews/ratings:',rated_products[rated_products>3].count())\n",
    "print('Number of products with minimum of 2 reviews/ratings:',rated_products[rated_products>2].count())\n",
    "print('Number of products with minimum of 1 reviews/ratings:',rated_products[rated_products>1].count())\n"
   ]
  },
  {
   "cell_type": "markdown",
   "metadata": {
    "id": "ltdaxAZzys49"
   },
   "source": [
    "## Visualizing the data"
   ]
  },
  {
   "cell_type": "markdown",
   "metadata": {},
   "source": [
    "Define lists index and values containing the names of metrics and their corresponding values. These metrics include the total size of records, the number of unique users, and the number of unique products in the dataset.\n",
    "Create a bar chart using the go.Bar() function from Plotly. It uses the index list as the x-axis labels and the values list as the y-axis values for the bars. The textposition='auto' argument allows text labels to be placed automatically on the bars.\n",
    "Display the interactive bar chart using the .show() method."
   ]
  },
  {
   "cell_type": "code",
   "execution_count": null,
   "metadata": {
    "id": "iCX3psxtys49",
    "outputId": "22b7e23e-288b-4866-9f32-9a1777215344"
   },
   "outputs": [],
   "source": [
    "# plot the data\n",
    "import plotly.graph_objects as go\n",
    "index = ['Total size of records', \"Number of unique users\",\"Number of unique products\"]\n",
    "values =[len(df),len(df['UserId'].unique()),len(df['ProductId'].unique())]\n",
    "\n",
    "plot = go.Figure([go.Bar(x=index, y=values,textposition='auto')])\n",
    "plot.update_layout(title_text='Number of Users and Products w.r.to Total size of Data',\n",
    "                    xaxis_title=\"Records\",\n",
    "                    yaxis_title=\"Total number of Records\")\n",
    "\n",
    "plot.show()\n"
   ]
  },
  {
   "cell_type": "markdown",
   "metadata": {
    "id": "hENq5VS8ys49"
   },
   "source": [
    "### The ratings given by users"
   ]
  },
  {
   "cell_type": "markdown",
   "metadata": {},
   "source": [
    " The df['Rating'].value_counts() function calculates the count of each unique rating value in the 'Rating' column. List called values is created containing the counts of each unique rating value. Create a bar chart using Plotly. It uses the unique rating values as x-axis labels and the values list (which contains the count of each rating value) as y-axis values for the bars. The textposition='auto' argument allows text labels to be placed automatically on the bars."
   ]
  },
  {
   "cell_type": "code",
   "execution_count": null,
   "metadata": {
    "id": "be5tn5lAys49",
    "outputId": "135264c5-678b-4310-ec92-5fc217db49f6"
   },
   "outputs": [],
   "source": [
    "print(\"Range of Ratings: \", df['Rating'].value_counts())\n",
    "print(list(df['Rating'].value_counts()))\n",
    "\n",
    "values = list(df['Rating'].value_counts())\n",
    "\n",
    "plot = go.Figure([go.Bar(x = df['Rating'].value_counts().index, y = values,textposition='auto')])\n",
    "\n",
    "plot.update_layout(title_text='Ratings given by user',\n",
    "                    xaxis_title=\"Rating\",\n",
    "                    yaxis_title=\"Total number of Ratings\")\n",
    "\n",
    "plot.show()\n"
   ]
  },
  {
   "cell_type": "code",
   "execution_count": null,
   "metadata": {
    "id": "MJbutlpbys4-"
   },
   "outputs": [],
   "source": []
  },
  {
   "cell_type": "markdown",
   "metadata": {
    "id": "LbvrqdMsys4-"
   },
   "source": [
    "### Products which are most popular"
   ]
  },
  {
   "cell_type": "markdown",
   "metadata": {},
   "source": [
    "A list called values is created containing the counts of occurrences for each product ID. Creates a bar chart for the most frequently occurring product IDs. It uses the indices of the top 5 products with the highest occurrence counts as x-axis labels and the values list as y-axis values for the bars. "
   ]
  },
  {
   "cell_type": "code",
   "execution_count": null,
   "metadata": {
    "id": "UsB7N_lLys4-",
    "outputId": "ca8a4f8f-562e-44c9-8642-92c6e51d482b"
   },
   "outputs": [],
   "source": [
    "print(\"Products with occurred the most: \\n\",df['ProductId'].value_counts().nlargest(5))\n",
    "\n",
    "values = list(df['ProductId'].value_counts())\n",
    "\n",
    "\n",
    "plot = go.Figure([go.Bar(x = df['ProductId'].value_counts().nlargest(5).index, y = values,textposition='auto')])\n",
    "\n",
    "plot.update_layout(title_text='Most rated products',\n",
    "                    xaxis_title=\"ProductID\",\n",
    "                    yaxis_title=\"Number of times occurred in the data\")\n",
    "\n",
    "plot.show()\n"
   ]
  },
  {
   "cell_type": "markdown",
   "metadata": {
    "id": "1AOlITZpys4-"
   },
   "source": [
    "### Average rating given by each user\n"
   ]
  },
  {
   "cell_type": "markdown",
   "metadata": {},
   "source": [
    "Calculate the number of ratings given by each user and store the results in the ratings_per_user Series. The sort_values(ascending=False) function sorts the Series in descending order based on the count of ratings. The first few users with the highest rating counts are then printed.Create a histogram using Plotly to visualize the distribution of ratings given by each user."
   ]
  },
  {
   "cell_type": "code",
   "execution_count": null,
   "metadata": {
    "id": "vCHwTep7ys4_",
    "outputId": "08b21941-94e8-450b-db29-fabdda49ff10"
   },
   "outputs": [],
   "source": [
    "ratings_per_user = df.groupby('UserId')['Rating'].count().sort_values(ascending=False)\n",
    "print(\"Average rating given by each user: \",ratings_per_user.head())\n",
    "\n",
    "plot = go.Figure(data=[go.Histogram(x=ratings_per_user)])\n",
    "plot.show()\n"
   ]
  },
  {
   "cell_type": "markdown",
   "metadata": {},
   "source": [
    "Create a histogram using Plotly to visualize the distribution of ratings given by each user."
   ]
  },
  {
   "cell_type": "code",
   "execution_count": null,
   "metadata": {
    "id": "noFYKo9tys4_",
    "outputId": "ab2f4903-1a85-40dd-f2ef-f26aea39929f"
   },
   "outputs": [],
   "source": [
    "ratings_per_product = df.groupby('ProductId')['Rating'].count().sort_values(ascending=False)\n",
    "# print(\"Average rating given by each user: \",ratings_per_user.head())\n",
    "\n",
    "plot = go.Figure(data=[go.Histogram(x=ratings_per_product)])\n",
    "plot.show(title_text='Number of ratings per product',\n",
    "                    xaxis_title=\"Product\",\n",
    "                    yaxis_title=\"Number of ratings\")\n"
   ]
  },
  {
   "cell_type": "markdown",
   "metadata": {},
   "source": [
    "Create a histogram showing the distribution of ratings per product, focusing on the top 2000 most rated products. The Plotly plot is displayed using the .show() method."
   ]
  },
  {
   "cell_type": "code",
   "execution_count": null,
   "metadata": {
    "id": "F-gy0Duoys4_",
    "outputId": "6e106e60-6d95-4293-f367-8646748dd9d2"
   },
   "outputs": [],
   "source": [
    "ratings_per_product = df.groupby('ProductId')['Rating'].count().sort_values(ascending=False)\n",
    "# print(\"Average rating given by each user: \",ratings_per_user.head())\n",
    "\n",
    "plot = go.Figure(data=[go.Histogram(x=ratings_per_product.nlargest(2000))])\n",
    "plot.show(title_text='Number of ratings per product',\n",
    "                    xaxis_title=\"Product\",\n",
    "                    yaxis_title=\"Number of ratings\")\n"
   ]
  },
  {
   "cell_type": "markdown",
   "metadata": {
    "id": "NpZMsTHeys4_"
   },
   "source": [
    "### Products with very less ratings\n"
   ]
  },
  {
   "cell_type": "markdown",
   "metadata": {},
   "source": [
    "Groups the data in the DataFrame df by the \"ProductId\" column and then calculates the count of ratings for each product using the .count() function. The result is a Pandas Series where the index represents the product IDs, and the values represent the count of ratings each product has received. \n",
    "number_of_ratings_given is created using the rating_of_products Series. This DataFrame will be used to analyze and categorize the number of ratings given to products.\n",
    "Code then categorizes products based on the count of ratings they have received.\n",
    "This code segment performs an analysis of the distribution of rating counts among products and categorizes products based on the number of ratings they have received. It then prints out these statistics."
   ]
  },
  {
   "cell_type": "code",
   "execution_count": null,
   "metadata": {
    "id": "3XSRsM3Lys5A",
    "outputId": "9cdd7af9-3be6-42c0-ba6e-8f1a08e58b85"
   },
   "outputs": [],
   "source": [
    "\n",
    "rating_of_products = df.groupby('ProductId')['Rating'].count()\n",
    "# convert to make dataframe to analyse data\n",
    "number_of_ratings_given = pd.DataFrame(rating_of_products)\n",
    "print(\"Products with ratings given by users: \\n\",number_of_ratings_given.head())\n",
    "\n",
    "less_than_ten = []\n",
    "less_than_fifty_greater_than_ten = []\n",
    "greater_than_fifty_less_than_hundred = []\n",
    "greater_than_hundred = []\n",
    "average_rating = []\n",
    "\n",
    "for rating in number_of_ratings_given['Rating']:\n",
    "    if rating <=10:\n",
    "        less_than_ten.append(rating)\n",
    "    if rating > 10 and rating <= 50:\n",
    "        less_than_fifty_greater_than_ten.append(rating)\n",
    "    if rating > 50 and rating <= 100:\n",
    "        greater_than_fifty_less_than_hundred.append(rating)\n",
    "    if rating > 100:\n",
    "        greater_than_hundred.append(rating)\n",
    "\n",
    "    average_rating.append(rating)\n",
    "    \n",
    "print(\"Ratings_count_less_than_ten: \", len(less_than_ten))\n",
    "print(\"Ratings_count_greater_than_ten_less_than_fifty: \", len(less_than_fifty_greater_than_ten))\n",
    "print(\"Ratings_count_greater_than_fifty_less_than_hundred: \", len(greater_than_fifty_less_than_hundred))\n",
    "print(\"Ratings_count_greater_than_hundred: \", len(greater_than_hundred))\n",
    "print(\"Average number of products rated by users: \", np.mean(average_rating))\n",
    "\n"
   ]
  },
  {
   "cell_type": "markdown",
   "metadata": {
    "id": "bc7pHNnFys5A"
   },
   "source": [
    "The code segment creates a bar chart that visualizes the distribution of products among different ranges of rating counts. The chart showcases how many products fall into each rating count range. Additionally, it adds an annotation to the plot and sets the plot's title and axis labels for clarity. The chart is displayed using Plotly's interactive visualization capabilities."
   ]
  },
  {
   "cell_type": "code",
   "execution_count": null,
   "metadata": {
    "id": "KO85PA8_ys5A",
    "outputId": "97454549-52cd-430a-cfee-13d1760c7f66"
   },
   "outputs": [],
   "source": [
    "x_values = [\"Ratings_count_less_than_ten\",\"Ratings_count_greater_than_ten_less_than_fifty\",\n",
    "           \"Ratings_count_greater_than_fifty_less_than_hundred\",\"Ratings_count_greater_than_hundred\"]\n",
    "y_values = [len(less_than_ten),len(less_than_fifty_greater_than_ten),len(greater_than_fifty_less_than_hundred),\n",
    "            len(greater_than_hundred)]\n",
    "\n",
    "\n",
    "plot = go.Figure([go.Bar(x = x_values, y = y_values, textposition='auto')])\n",
    "\n",
    "plot.add_annotation(\n",
    "        x=1,\n",
    "        y=100000,\n",
    "        xref=\"x\",\n",
    "        yref=\"y\")\n",
    "\n",
    "plot.update_layout(title_text='Ratings Count on Products',\n",
    "                    xaxis_title=\"Ratings Range\",\n",
    "                    yaxis_title=\"Count of Rating\")\n",
    "plot.show()\n"
   ]
  },
  {
   "cell_type": "code",
   "execution_count": null,
   "metadata": {
    "id": "a0nt2B3Jys5A"
   },
   "outputs": [],
   "source": []
  },
  {
   "cell_type": "code",
   "execution_count": null,
   "metadata": {
    "id": "iLofom-xys5B"
   },
   "outputs": [],
   "source": [
    "from sklearn import preprocessing\n",
    "\n",
    "label_encoder = preprocessing.LabelEncoder()\n"
   ]
  },
  {
   "cell_type": "markdown",
   "metadata": {
    "id": "Ec40mXRBys5B"
   },
   "source": [
    "### To convert alphanumeric data to numeric"
   ]
  },
  {
   "cell_type": "markdown",
   "metadata": {},
   "source": [
    "A new DataFrame named dataset is created as a copy of the original DataFrame df. Then, the label encoder is applied to the 'UserId' and 'ProductId' columns to convert them into numerical values. These transformed values are stored in new columns 'user' and 'product' in the dataset"
   ]
  },
  {
   "cell_type": "code",
   "execution_count": null,
   "metadata": {
    "id": "o9P74dQyys5B",
    "outputId": "ed0e4147-ac1a-47f1-b4fb-621ec4b40689"
   },
   "outputs": [],
   "source": [
    "dataset = df\n",
    "dataset['user'] = label_encoder.fit_transform(df['UserId'])\n",
    "dataset['product'] = label_encoder.fit_transform(df['ProductId'])\n",
    "dataset.head()\n"
   ]
  },
  {
   "cell_type": "markdown",
   "metadata": {},
   "source": [
    "The code calculates the average rating given by each user by using the groupby() function to group the data by 'user'. The mean of the 'Rating' column within each user group is computed using .mean(). The result is stored in the average_rating DataFrame, which shows the average rating given by each user. The .head() function is used to display the first few rows of this DataFrame."
   ]
  },
  {
   "cell_type": "markdown",
   "metadata": {},
   "source": [
    "The code merges the average_rating DataFrame with the dataset DataFrame using the 'user' column as the key for merging. This adds a new column 'Rating_y' to the dataset DataFrame, containing the average rating given by each user. The result is displayed using .head()."
   ]
  },
  {
   "cell_type": "markdown",
   "metadata": {},
   "source": [
    "The columns are renamed to clarify their meaning. The 'Rating_x' column is renamed to 'real_rating', and the 'Rating_y' column is renamed to 'average_rating'. The result is displayed using .head()."
   ]
  },
  {
   "cell_type": "code",
   "execution_count": null,
   "metadata": {
    "id": "Emx3qCM-ys5B",
    "outputId": "b7782aa5-7e8a-483c-acfd-b0c9717316e0"
   },
   "outputs": [],
   "source": [
    "\n",
    "# average rating given by each user\n",
    "average_rating = dataset.groupby(by=\"user\", as_index=False)['Rating'].mean()\n",
    "print(\"Average rating given by users: \\n\",average_rating.head())\n",
    "print(\"----------------------------------------------------------\\n\")\n",
    "\n",
    "\n",
    "# let's merge it with the dataset as we will be using that later\n",
    "dataset = pd.merge(dataset, average_rating, on=\"user\")\n",
    "print(\"Modified dataset: \\n\", dataset.head())\n",
    "print(\"----------------------------------------------------------\\n\")\n",
    "\n",
    "# renaming columns\n",
    "dataset = dataset.rename(columns={\"Rating_x\": \"real_rating\", \"Rating_y\": \"average_rating\"})\n",
    "print(\"Dataset: \\n\", dataset.head())\n",
    "print(\"----------------------------------------------------------\\n\")\n"
   ]
  },
  {
   "cell_type": "markdown",
   "metadata": {
    "id": "YFQetFBxys5B"
   },
   "source": [
    "Certain users tend to give higher ratings while others tend to give lower ratings. To negate this bias, we normalise the ratings given by the users."
   ]
  },
  {
   "cell_type": "markdown",
   "metadata": {},
   "source": [
    "Calculate the normalized rating for each entry by subtracting the 'average_rating' from the 'real_rating'. The result is stored in a new column called 'normalized_rating', which represents how much a user's rating differs from their average rating."
   ]
  },
  {
   "cell_type": "code",
   "execution_count": null,
   "metadata": {
    "id": "Mjhu9oBwys5C",
    "outputId": "95a63dc2-5617-41eb-9035-818b98d110be"
   },
   "outputs": [],
   "source": [
    "dataset['normalized_rating'] = dataset['real_rating'] - dataset['average_rating']\n",
    "print(\"Data with adjusted rating: \\n\", dataset.head())\n"
   ]
  },
  {
   "cell_type": "markdown",
   "metadata": {
    "id": "35RkQZD3ys5C"
   },
   "source": [
    "# Cosine Similarity"
   ]
  },
  {
   "cell_type": "markdown",
   "metadata": {
    "id": "EIDelsjJys5C"
   },
   "source": [
    "We use a distance based metric - cosine similarity to identify similar users. It is important first, to remove products that have very low number of ratings."
   ]
  },
  {
   "cell_type": "markdown",
   "metadata": {
    "id": "oF_hsJkdys5C"
   },
   "source": [
    "## Filter based on number of ratings available"
   ]
  },
  {
   "cell_type": "markdown",
   "metadata": {},
   "source": [
    "The code groups the data by 'product' and calculates the count of real ratings (not the normalized ratings) for each product using .count(). The result is stored in the rating_of_product Series, and then it's converted into a DataFrame called ratings_of_products_df."
   ]
  },
  {
   "cell_type": "code",
   "execution_count": null,
   "metadata": {
    "id": "yPWf6JEyys5C",
    "outputId": "dc754350-f214-45f4-868a-f59d5f6a7239"
   },
   "outputs": [],
   "source": [
    "rating_of_product = dataset.groupby('product')['real_rating'].count() # apply groupby \n",
    "ratings_of_products_df = pd.DataFrame(rating_of_product)\n",
    "print(\"Real ratings:\\n\",ratings_of_products_df.head()) # check for real rating for products\n"
   ]
  },
  {
   "cell_type": "markdown",
   "metadata": {},
   "source": [
    "Filter out products that have less than 200 real ratings by using boolean indexing. It creates a DataFrame called filtered_ratings_per_product containing only the products with 200 or more real ratings."
   ]
  },
  {
   "cell_type": "code",
   "execution_count": null,
   "metadata": {
    "id": "qZwjCfe7ys5D",
    "outputId": "5a34faad-2cd3-478e-d4bd-689f4a503843"
   },
   "outputs": [],
   "source": [
    "filtered_ratings_per_product = ratings_of_products_df[ratings_of_products_df.real_rating >= 200]\n",
    "print(filtered_ratings_per_product.head())\n",
    "print(filtered_ratings_per_product.shape)\n"
   ]
  },
  {
   "cell_type": "markdown",
   "metadata": {},
   "source": [
    "The code extracts the indices of the filtered DataFrame (filtered_ratings_per_product) and converts them into a list called popular_products. These are the product IDs that have received 200 or more real ratings.\n",
    "Filters the dataset DataFrame to keep only the rows where the product ID matches those in the popular_products list. The result is a new DataFrame called filtered_ratings_data that contains data only for popular products."
   ]
  },
  {
   "cell_type": "code",
   "execution_count": null,
   "metadata": {
    "id": "LYwifiH6ys5D",
    "outputId": "fa15e694-c4da-4baf-d888-1e68dc40a8b9"
   },
   "outputs": [],
   "source": [
    "# build a list of products to keep\n",
    "popular_products = filtered_ratings_per_product.index.tolist()\n",
    "print(\"Popular product count which have ratings over average rating count: \",len(popular_products))\n",
    "print(\"--------------------------------------------------------------------------------\")\n",
    "\n",
    "filtered_ratings_data = dataset[dataset[\"product\"].isin(popular_products)]\n",
    "print(\"Filtered rated product in the dataset: \\n\",filtered_ratings_data.head())\n",
    "print(\"---------------------------------------------------------------------------------\")\n",
    "\n",
    "print(\"The size of dataset has changed from \", len(dataset), \" to \", len(filtered_ratings_data))\n",
    "print(\"---------------------------------------------------------------------------------\")\n"
   ]
  },
  {
   "cell_type": "markdown",
   "metadata": {
    "id": "5Q2iXaViys5D"
   },
   "source": [
    "## Creating the User-item matrix"
   ]
  },
  {
   "cell_type": "markdown",
   "metadata": {},
   "source": [
    "This pivot table will be used to calculate the similarity between users based on their normalized ratings for different products. Pivot table will have rows representing users, columns representing products, and the cell values representing the normalized ratings given by users to the respective products. This matrix will be used to calculate user-user similarity.\n",
    "\n",
    "Fill any missing values (NaNs) in the similarity pivot table with zeros. Missing values might occur if a user hasn't rated a particular product, resulting in a NaN value in the pivot table."
   ]
  },
  {
   "cell_type": "code",
   "execution_count": null,
   "metadata": {
    "id": "aCNE1l_Eys5D",
    "outputId": "0eb05cb8-e013-4e12-a48b-c3fb1d328aba"
   },
   "outputs": [],
   "source": [
    "similarity = pd.pivot_table(filtered_ratings_data,values='normalized_rating',index='UserId',columns='product')\n",
    "similarity = similarity.fillna(0)\n",
    "print(\"Updated Dataset: \\n\",similarity.head())\n"
   ]
  },
  {
   "cell_type": "markdown",
   "metadata": {
    "id": "F-0DxfZPys5E"
   },
   "source": [
    "As you can see, this is a very sparse matrix"
   ]
  },
  {
   "cell_type": "code",
   "execution_count": null,
   "metadata": {
    "id": "mi3bQWh2ys5E"
   },
   "outputs": [],
   "source": []
  },
  {
   "cell_type": "code",
   "execution_count": null,
   "metadata": {
    "id": "ZCouJYCWys5E"
   },
   "outputs": [],
   "source": [
    "from sklearn.metrics.pairwise import cosine_similarity\n",
    "import operator\n"
   ]
  },
  {
   "cell_type": "markdown",
   "metadata": {},
   "source": [
    "List called selecting_users is created containing the indices (user IDs) from the similarity pivot table. It then truncates the list to contain only the first 100 user IDs. These user IDs will be used for selecting users to calculate recommendations for."
   ]
  },
  {
   "cell_type": "code",
   "execution_count": null,
   "metadata": {
    "id": "FFvDUYyBys5E",
    "outputId": "63474544-e3b8-480a-a8b9-367886688e2e"
   },
   "outputs": [],
   "source": [
    "selecting_users = list(similarity.index)\n",
    "selecting_users = selecting_users[:100]\n",
    "print(\"You can select users from the below list:\\n\",selecting_users)\n"
   ]
  },
  {
   "cell_type": "markdown",
   "metadata": {
    "id": "PaSWOQQYys5E"
   },
   "source": [
    "The next part of the code defines two functions for user-based collaborative filtering:\n",
    "\n",
    "getting_top_5_similar_users(user_id, similarity_table, k=5): This function calculates the top k similar users to the given user ID based on the cosine similarity of their rating vectors.\n",
    "\n",
    "getting_top_5_recommendations_based_on_users(user_id, similar_users, similarity_table, top_recommendations=5): This function generates top recommendations for a user based on the ratings of similar users."
   ]
  },
  {
   "cell_type": "code",
   "execution_count": null,
   "metadata": {
    "id": "H9Qge5koys5F"
   },
   "outputs": [],
   "source": [
    "def getting_top_5_similar_users(user_id, similarity_table, k=5):\n",
    "    '''\n",
    "\n",
    "    :param user_id: the user we want to recommend\n",
    "    :param similarity_table: the user-item matrix\n",
    "    :return: Similar users to the user_id.\n",
    "    '''\n",
    "\n",
    "    # create a dataframe of just the current user\n",
    "    user = similarity_table[similarity_table.index == user_id]\n",
    "    # and a dataframe of all other users\n",
    "    other_users = similarity_table[similarity_table.index != user_id]\n",
    "    # calculate cosine similarity between user and each other user\n",
    "    similarities = cosine_similarity(user, other_users)[0].tolist()\n",
    "\n",
    "    indices = other_users.index.tolist()\n",
    "    index_similarity = dict(zip(indices, similarities))\n",
    "\n",
    "    # sort by similarity\n",
    "    index_similarity_sorted = sorted(index_similarity.items(), key=operator.itemgetter(1))\n",
    "    index_similarity_sorted.reverse()\n",
    "\n",
    "    # take users\n",
    "    top_users_similarities = index_similarity_sorted[:k]\n",
    "    users = []\n",
    "    for user in top_users_similarities:\n",
    "        users.append(user[0])\n",
    "\n",
    "    return users\n"
   ]
  },
  {
   "cell_type": "markdown",
   "metadata": {},
   "source": [
    "Demonstrate the first function by calculating the top 5 similar users to a specific user ID (\"A0010876CNE3ILIM9HV0\") using the getting_top_5_similar_users function. It then prints out the IDs of these similar users."
   ]
  },
  {
   "cell_type": "code",
   "execution_count": null,
   "metadata": {
    "id": "LdvxWdBsys5F",
    "pycharm": {
     "is_executing": true
    }
   },
   "outputs": [],
   "source": [
    "user_id = \"A0010876CNE3ILIM9HV0\"\n",
    "similar_users = getting_top_5_similar_users(user_id, similarity)\n"
   ]
  },
  {
   "cell_type": "code",
   "execution_count": null,
   "metadata": {
    "id": "D2KvXcyUys5F",
    "outputId": "81fcbe78-8423-4727-ec2b-355f401bbb73",
    "pycharm": {
     "is_executing": true
    }
   },
   "outputs": [],
   "source": [
    "print(\"Top 5 similar users for user_id:\",user_id,\" are: \",similar_users)\n"
   ]
  },
  {
   "cell_type": "markdown",
   "metadata": {
    "id": "3bEtfUbSys5G"
   },
   "source": [
    "## Recommend products based on these top similar users"
   ]
  },
  {
   "cell_type": "code",
   "execution_count": null,
   "metadata": {
    "id": "hpK98y4kys5G",
    "pycharm": {
     "is_executing": true
    }
   },
   "outputs": [],
   "source": [
    "def getting_top_5_recommendations_based_on_users(user_id, similar_users, similarity_table, top_recommendations=5):\n",
    "    '''\n",
    "\n",
    "    :param user_id: user for whom we want to recommend\n",
    "    :param similar_users: top 5 similar users\n",
    "    :param similarity_table: the user-item matrix\n",
    "    :param top_recommendations: no. of recommendations\n",
    "    :return: top_5_recommendations\n",
    "    '''\n",
    "\n",
    "    # taking the data for similar users\n",
    "    similar_user_products = dataset[dataset.UserId.isin(similar_users)]\n",
    "#     print(\"Products used by other users: \\n\", similar_user_products.head())\n",
    "#     print(\"---------------------------------------------------------------------------------\")\n",
    "\n",
    "    # getting all similar users\n",
    "    similar_users = similarity_table[similarity_table.index.isin(similar_users)]\n",
    "\n",
    "    #getting mean ratings given by users\n",
    "    similar_users = similar_users.mean(axis=0)\n",
    "\n",
    "\n",
    "    similar_users_df = pd.DataFrame(similar_users, columns=['mean'])\n",
    "\n",
    "    # for the current user data\n",
    "    user_df = similarity_table[similarity_table.index == user_id]\n",
    "\n",
    "\n",
    "    # transpose it so its easier to filter\n",
    "    user_df_transposed = user_df.transpose()\n",
    "\n",
    "\n",
    "    # rename the column as 'rating'\n",
    "    user_df_transposed.columns = ['rating']\n",
    "\n",
    "    # rows with a 0 value.\n",
    "    user_df_transposed = user_df_transposed[user_df_transposed['rating'] == 0]\n",
    "\n",
    "\n",
    "    # generate a list of products the user has not used\n",
    "    products_not_rated = user_df_transposed.index.tolist()\n",
    "#     print(\"Products not used by target user: \", products_not_rated)\n",
    "#     print(\"-------------------------------------------------------------------\")\n",
    "\n",
    "    # filter avg ratings of similar users for only products the current user has not rated\n",
    "    similar_users_df_filtered = similar_users_df[similar_users_df.index.isin(products_not_rated)]\n",
    "\n",
    "    # order the dataframe\n",
    "    similar_users_df_ordered = similar_users_df_filtered.sort_values(by=['mean'], ascending=False)\n",
    "\n",
    "\n",
    "\n",
    "    # take the top products\n",
    "    top_products = similar_users_df_ordered.head(top_recommendations)\n",
    "    top_products_indices = top_products.index.tolist()\n",
    "\n",
    "\n",
    "    return top_products_indices\n",
    "\n"
   ]
  },
  {
   "cell_type": "markdown",
   "metadata": {},
   "source": [
    "Demonstrate the second function by generating and printing the top 5 recommended product IDs for the given user ID using the getting_top_5_recommendations_based_on_users function and the list of similar users calculated earlier."
   ]
  },
  {
   "cell_type": "code",
   "execution_count": null,
   "metadata": {
    "id": "vqGdsyuuys5H",
    "outputId": "73ba682c-43ad-493c-f00f-e8f61a697b54",
    "pycharm": {
     "is_executing": true
    }
   },
   "outputs": [],
   "source": [
    "print(\"Top 5 productID recommended are: \",\n",
    "      getting_top_5_recommendations_based_on_users(user_id, similar_users, similarity))\n"
   ]
  },
  {
   "cell_type": "markdown",
   "metadata": {},
   "source": [
    "Display the shape and the first few rows of the filtered_ratings_data DataFrame, and then filter the data to show only rows where the 'UserId' is \"A0010876CNE3ILIM9HV0\"."
   ]
  },
  {
   "cell_type": "code",
   "execution_count": null,
   "metadata": {
    "id": "3PPL4cu9ys5H",
    "outputId": "750ee1a5-a760-4746-d0bd-9e8b59ec80eb",
    "pycharm": {
     "is_executing": true
    }
   },
   "outputs": [],
   "source": [
    "filtered_ratings_data.shape"
   ]
  },
  {
   "cell_type": "code",
   "execution_count": null,
   "metadata": {
    "id": "mwB9r7z8ys5H",
    "outputId": "278a45d4-edd0-4b3b-ee47-b1c7c4267130",
    "pycharm": {
     "is_executing": true
    }
   },
   "outputs": [],
   "source": [
    "filtered_ratings_data.head()"
   ]
  },
  {
   "cell_type": "code",
   "execution_count": null,
   "metadata": {
    "id": "xS9EHTP9ys5I",
    "outputId": "27287a51-31e5-414f-f98a-392b67ac6b6b",
    "pycharm": {
     "is_executing": true
    }
   },
   "outputs": [],
   "source": [
    "\n",
    "filtered_ratings_data[filtered_ratings_data['UserId']==\"A0010876CNE3ILIM9HV0\"]\n"
   ]
  },
  {
   "cell_type": "markdown",
   "metadata": {
    "id": "u7y8zkxTys5I",
    "pycharm": {
     "is_executing": true
    }
   },
   "source": [
    "Data is split into training and testing sets using the train_test_split function from scikit-learn. The test_size parameter is set to 0.2, indicating that 20% of the data will be used for testing. The training and testing data are then converted back into Pandas DataFrames."
   ]
  },
  {
   "cell_type": "code",
   "execution_count": null,
   "metadata": {
    "id": "x-5rlpDwys5I",
    "pycharm": {
     "is_executing": true
    }
   },
   "outputs": [],
   "source": [
    "from sklearn.model_selection import train_test_split\n",
    "train_data, test_data = train_test_split(filtered_ratings_data,test_size=0.2)\n",
    "\n",
    "train_data = pd.DataFrame(train_data)\n",
    "test_data = pd.DataFrame(test_data)\n"
   ]
  },
  {
   "cell_type": "markdown",
   "metadata": {},
   "source": [
    "Creates a pivot table similarity using the training data. The pivot table represents the user-product matrix of normalized ratings. Missing values (NaNs) are filled with zeros. "
   ]
  },
  {
   "cell_type": "code",
   "execution_count": null,
   "metadata": {
    "id": "GEF9-21oys5I",
    "outputId": "b3463ffc-8442-4e58-d890-73de67e2e4b5",
    "pycharm": {
     "is_executing": true
    }
   },
   "outputs": [],
   "source": [
    "similarity = pd.pivot_table(train_data,values='normalized_rating',index='UserId',columns='product')\n",
    "similarity = similarity.fillna(0)\n",
    "print(\"Updated Dataset: \\n\",similarity.head())\n"
   ]
  },
  {
   "cell_type": "code",
   "execution_count": null,
   "metadata": {
    "id": "Cbt_B6Hiys5J",
    "outputId": "fcead131-a63a-4742-d56c-c8d35c578217",
    "pycharm": {
     "is_executing": true
    }
   },
   "outputs": [],
   "source": [
    "similarity.shape\n"
   ]
  },
  {
   "cell_type": "markdown",
   "metadata": {},
   "source": [
    "Code selects the first 100 user IDs from the similarity matrix as a list of potential users for generating recommendations."
   ]
  },
  {
   "cell_type": "code",
   "execution_count": null,
   "metadata": {
    "id": "Ui2gUfMNys5J",
    "outputId": "f84c457b-0bbc-4fb8-c8ac-2acd654cd066",
    "pycharm": {
     "is_executing": true
    }
   },
   "outputs": [],
   "source": [
    "selecting_users = list(similarity.index)\n",
    "selecting_users = selecting_users[:100]\n",
    "print(\"You can select users from the below list:\\n\",selecting_users)\n"
   ]
  },
  {
   "cell_type": "markdown",
   "metadata": {},
   "source": [
    "Calculate the top 5 similar users for the given user ID (\"A02720223TDVZSWVZYFN7\") using the getting_top_5_similar_users function and print them. Additionally, the top 5 recommended product IDs for the given user are calculated using the getting_top_5_recommendations_based_on_users function"
   ]
  },
  {
   "cell_type": "code",
   "execution_count": null,
   "metadata": {
    "id": "vU9mbj_1ys5J",
    "pycharm": {
     "is_executing": true
    }
   },
   "outputs": [],
   "source": [
    "user_id = \"A02720223TDVZSWVZYFN7\"\n",
    "similar_users = getting_top_5_similar_users(user_id, similarity)\n"
   ]
  },
  {
   "cell_type": "code",
   "execution_count": null,
   "metadata": {
    "id": "zUlV-ixkys5J",
    "outputId": "ce7e09e4-cd4f-43d0-c244-099b45b18414",
    "pycharm": {
     "is_executing": true
    }
   },
   "outputs": [],
   "source": [
    "print(\"Top 5 similar users for user_id:\",user_id,\" are: \",similar_users)\n"
   ]
  },
  {
   "cell_type": "code",
   "execution_count": null,
   "metadata": {
    "id": "qenYFhWBys5K",
    "outputId": "c8688a7d-0b31-4d4a-d61d-1b3ace5c1b1f",
    "pycharm": {
     "is_executing": true
    }
   },
   "outputs": [],
   "source": [
    "print(\"Top 5 productID recommended are: \",\n",
    "      getting_top_5_recommendations_based_on_users(user_id, similar_users, similarity))\n"
   ]
  },
  {
   "cell_type": "code",
   "execution_count": null,
   "metadata": {
    "id": "Tkbcgemnys5K",
    "outputId": "73a254f3-55c8-42e6-f5e9-70d4a8cfc48a",
    "pycharm": {
     "is_executing": true
    }
   },
   "outputs": [],
   "source": [
    "test_data.shape\n"
   ]
  },
  {
   "cell_type": "code",
   "execution_count": null,
   "metadata": {
    "id": "mh5XvRieys5K",
    "outputId": "868dd6ca-9a72-4e41-c657-5bc600ac8e3a",
    "pycharm": {
     "is_executing": true
    }
   },
   "outputs": [],
   "source": [
    "len(test_data.user.unique())\n"
   ]
  },
  {
   "cell_type": "code",
   "execution_count": null,
   "metadata": {
    "id": "eD3EAV1Uys5K",
    "outputId": "068ce089-8f3e-4d5f-f206-36161d56d822",
    "pycharm": {
     "is_executing": true
    }
   },
   "outputs": [],
   "source": [
    "test_data.UserId\n"
   ]
  },
  {
   "cell_type": "code",
   "execution_count": null,
   "metadata": {
    "id": "BzhP6-T3ys5L",
    "outputId": "acf9fc32-c0d3-474b-f174-4a61d306204d",
    "pycharm": {
     "is_executing": true
    }
   },
   "outputs": [],
   "source": [
    "test_data.head()\n"
   ]
  },
  {
   "cell_type": "markdown",
   "metadata": {},
   "source": [
    "Define a function recommend_products_for_user that takes a user ID and a similarity matrix as inputs. It calculates the similar users using the getting_top_5_similar_users function and generates a list of recommended product IDs using the getting_top_5_recommendations_based_on_users function. The function then returns this list of recommended product IDs. Finally, the function is called with the user ID \"A2XVNI270N97GL\" and the similarity matrix, and the recommended products are printed."
   ]
  },
  {
   "cell_type": "code",
   "execution_count": null,
   "metadata": {
    "id": "Ng7fNiLkys5L",
    "pycharm": {
     "is_executing": true
    }
   },
   "outputs": [],
   "source": [
    "def recommend_products_for_user(userId, similarity_matrix):\n",
    "    similar_users = getting_top_5_similar_users(user_id, similarity_matrix)\n",
    "#     print(\"Top 5 similar users for user_id:\",user_id,\" are: \",similar_users)\n",
    "    product_list = getting_top_5_recommendations_based_on_users(user_id, similar_users, similarity)\n",
    "#     print(\"Top 5 productID recommended are: \", product_list)\n",
    "    return product_list\n"
   ]
  },
  {
   "cell_type": "code",
   "execution_count": null,
   "metadata": {
    "id": "z3-dAWkOys5L",
    "outputId": "a70feb10-7179-4dac-f730-167cc1d1cf49",
    "pycharm": {
     "is_executing": true
    }
   },
   "outputs": [],
   "source": [
    "recommend_products_for_user(\"A2XVNI270N97GL\", similarity)\n"
   ]
  },
  {
   "cell_type": "markdown",
   "metadata": {
    "id": "HTzn5ZhDys5L"
   },
   "source": [
    "### Conclusion\n",
    "\n",
    "Recommender systems are a powerful technology that adds to a businesses value. Some business thrive on their recommender systems. It helps the business by creating more sales and it helps the end user buy enabling them to find items they like."
   ]
  },
  {
   "cell_type": "code",
   "execution_count": null,
   "metadata": {
    "id": "fObEIdKBys5M",
    "pycharm": {
     "is_executing": true
    }
   },
   "outputs": [],
   "source": []
  }
 ],
 "metadata": {
  "colab": {
   "name": "Recommender+Systems+using+Collaborative+Filtering+-+Memory+based.ipynb",
   "provenance": []
  },
  "kernelspec": {
   "display_name": "Python 3 (ipykernel)",
   "language": "python",
   "name": "python3"
  },
  "language_info": {
   "codemirror_mode": {
    "name": "ipython",
    "version": 3
   },
   "file_extension": ".py",
   "mimetype": "text/x-python",
   "name": "python",
   "nbconvert_exporter": "python",
   "pygments_lexer": "ipython3",
   "version": "3.10.9"
  }
 },
 "nbformat": 4,
 "nbformat_minor": 1
}
